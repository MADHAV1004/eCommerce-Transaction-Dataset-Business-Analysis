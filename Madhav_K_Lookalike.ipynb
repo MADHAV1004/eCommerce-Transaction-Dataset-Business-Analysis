{
  "nbformat": 4,
  "nbformat_minor": 0,
  "metadata": {
    "colab": {
      "provenance": []
    },
    "kernelspec": {
      "name": "python3",
      "display_name": "Python 3"
    },
    "language_info": {
      "name": "python"
    }
  },
  "cells": [
    {
      "cell_type": "code",
      "execution_count": 6,
      "metadata": {
        "id": "QlamEo7A0nEg"
      },
      "outputs": [],
      "source": [
        "# Import necessary libraries\n",
        "import pandas as pd\n",
        "from sklearn.preprocessing import StandardScaler\n",
        "from sklearn.metrics.pairwise import cosine_similarity\n",
        "\n",
        "# Load datasets\n",
        "customers = pd.read_csv(\"/content/Customers.csv\")\n",
        "transactions = pd.read_csv(\"/content/Transactions.csv\")\n",
        "products = pd.read_csv(\"/content/Products.csv\")\n"
      ]
    },
    {
      "cell_type": "code",
      "source": [
        "# Preprocess data\n",
        "# Summarize transaction history for each customer\n",
        "customer_transactions = transactions.groupby('CustomerID').agg({\n",
        "    'Quantity': 'sum',\n",
        "    'TotalValue': 'sum'\n",
        "}).reset_index()\n",
        "\n",
        "# Merge customer profiles with transaction history\n",
        "customer_profiles = customers.merge(customer_transactions, on='CustomerID', how='left').fillna(0)\n",
        "\n",
        "# Encode categorical features\n",
        "customer_profiles = pd.get_dummies(customer_profiles, columns=['Region'], drop_first=True)\n",
        "\n",
        "# Standardize numerical features\n",
        "scaler = StandardScaler()\n",
        "customer_profiles_scaled = scaler.fit_transform(customer_profiles.drop(columns=['CustomerID', 'CustomerName', 'SignupDate']))\n"
      ],
      "metadata": {
        "id": "NpT6uNfB0sQA"
      },
      "execution_count": 7,
      "outputs": []
    },
    {
      "cell_type": "code",
      "source": [
        "# Compute similarity scores using cosine similarity\n",
        "similarity_matrix = cosine_similarity(customer_profiles_scaled)\n",
        "\n",
        "# Generate lookalike recommendations\n",
        "lookalike_results = {}\n",
        "customer_ids = customer_profiles['CustomerID'].tolist()\n",
        "\n",
        "for i, customer_id in enumerate(customer_ids[:20]):  # First 20 customers\n",
        "    # Get similarity scores for the current customer\n",
        "    scores = similarity_matrix[i]\n",
        "    # Get the top 3 most similar customers (excluding self)\n",
        "    similar_indices = scores.argsort()[::-1][1:4]\n",
        "    similar_customers = [(customer_ids[idx], round(scores[idx], 3)) for idx in similar_indices]\n",
        "    # Add to results\n",
        "    lookalike_results[customer_id] = similar_customers\n"
      ],
      "metadata": {
        "id": "D3T2C-vu0sR-"
      },
      "execution_count": 8,
      "outputs": []
    },
    {
      "cell_type": "code",
      "source": [
        "\n",
        "# Save the lookalike results to a CSV file\n",
        "lookalike_df = pd.DataFrame([\n",
        "    {'CustomerID': customer_id,\n",
        "     'Lookalikes': str(lookalikes)}\n",
        "    for customer_id, lookalikes in lookalike_results.items()\n",
        "])\n",
        "\n",
        "lookalike_df.to_csv(\"Madhav_K_Lookalike.csv\", index=False)\n"
      ],
      "metadata": {
        "id": "l19X-fQG0sUQ"
      },
      "execution_count": 9,
      "outputs": []
    },
    {
      "cell_type": "code",
      "source": [
        "# Display the lookalike results\n",
        "print(\"Lookalike Recommendations for the First 20 Customers:\")\n",
        "print(lookalike_df)"
      ],
      "metadata": {
        "colab": {
          "base_uri": "https://localhost:8080/"
        },
        "id": "51WhcAmk0sX2",
        "outputId": "73a1ec78-ee4c-4768-e032-80e323208bac"
      },
      "execution_count": 10,
      "outputs": [
        {
          "output_type": "stream",
          "name": "stdout",
          "text": [
            "Lookalike Recommendations for the First 20 Customers:\n",
            "   CustomerID                                         Lookalikes\n",
            "0       C0001  [('C0107', 0.996), ('C0137', 0.996), ('C0184',...\n",
            "1       C0002  [('C0088', 0.996), ('C0142', 0.988), ('C0159',...\n",
            "2       C0003  [('C0147', 0.998), ('C0190', 0.997), ('C0174',...\n",
            "3       C0004  [('C0113', 0.994), ('C0102', 0.98), ('C0169', ...\n",
            "4       C0005  [('C0186', 0.997), ('C0159', 0.996), ('C0140',...\n",
            "5       C0006  [('C0048', 0.994), ('C0126', 0.991), ('C0187',...\n",
            "6       C0007  [('C0146', 1.0), ('C0178', 0.994), ('C0177', 0...\n",
            "7       C0008  [('C0018', 0.984), ('C0122', 0.962), ('C0046',...\n",
            "8       C0009  [('C0198', 1.0), ('C0014', 0.997), ('C0063', 0...\n",
            "9       C0010  [('C0019', 0.991), ('C0073', 0.985), ('C0166',...\n",
            "10      C0011  [('C0107', 0.995), ('C0048', 0.995), ('C0001',...\n",
            "11      C0012  [('C0148', 0.996), ('C0163', 0.994), ('C0155',...\n",
            "12      C0013  [('C0163', 0.996), ('C0148', 0.994), ('C0155',...\n",
            "13      C0014  [('C0060', 0.999), ('C0009', 0.997), ('C0198',...\n",
            "14      C0015  [('C0020', 0.999), ('C0058', 0.989), ('C0033',...\n",
            "15      C0016  [('C0154', 0.996), ('C0185', 0.99), ('C0183', ...\n",
            "16      C0017  [('C0124', 0.989), ('C0053', 0.973), ('C0041',...\n",
            "17      C0018  [('C0122', 0.995), ('C0046', 0.985), ('C0008',...\n",
            "18      C0019  [('C0166', 0.998), ('C0172', 0.997), ('C0073',...\n",
            "19      C0020  [('C0015', 0.999), ('C0058', 0.996), ('C0033',...\n"
          ]
        }
      ]
    }
  ]
}